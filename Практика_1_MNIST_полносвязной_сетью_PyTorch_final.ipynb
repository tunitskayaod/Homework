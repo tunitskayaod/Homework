{
  "nbformat": 4,
  "nbformat_minor": 0,
  "metadata": {
    "accelerator": "GPU",
    "colab": {
      "name": "Практика_1_MNIST_полносвязной_сетью_PyTorch_final.ipynb",
      "provenance": [],
      "collapsed_sections": [],
      "include_colab_link": true
    },
    "kernelspec": {
      "display_name": "Python 3",
      "language": "python",
      "name": "python3"
    },
    "language_info": {
      "codemirror_mode": {
        "name": "ipython",
        "version": 3
      },
      "file_extension": ".py",
      "mimetype": "text/x-python",
      "name": "python",
      "nbconvert_exporter": "python",
      "pygments_lexer": "ipython3",
      "version": "3.6.8"
    }
  },
  "cells": [
    {
      "cell_type": "markdown",
      "metadata": {
        "id": "view-in-github",
        "colab_type": "text"
      },
      "source": [
        "<a href=\"https://colab.research.google.com/github/tunitskayaod/Homework/blob/main/%D0%9F%D1%80%D0%B0%D0%BA%D1%82%D0%B8%D0%BA%D0%B0_1_MNIST_%D0%BF%D0%BE%D0%BB%D0%BD%D0%BE%D1%81%D0%B2%D1%8F%D0%B7%D0%BD%D0%BE%D0%B8%CC%86_%D1%81%D0%B5%D1%82%D1%8C%D1%8E_PyTorch_final.ipynb\" target=\"_parent\"><img src=\"https://colab.research.google.com/assets/colab-badge.svg\" alt=\"Open In Colab\"/></a>"
      ]
    },
    {
      "cell_type": "markdown",
      "metadata": {
        "id": "fIOo7906Ebt1"
      },
      "source": [
        "# Классификация MNIST полносвязной нейронной сетью\n",
        "\n",
        "В этом практическом занятии мы рассмотрим задачу классификации изображений полносвязной нейронной сетью.\n",
        "\n",
        "Мы будем решать классическую задачу распознавания рукописных цифр. Для этой задачи созан датасет MNIST. Он содержит в себе изображения (28x28 пикселей) рукописных цифр от 0 до 9 -- т.е. всего 10 классов картинок.\n",
        "\n",
        "Далее посмотрим, как работает такая нейронная сеть для задачи распознавания изображений в датасетах CIFAR, которые являются набором реальных изображений, уменьшенных до размера 32x32 пикселей."
      ]
    },
    {
      "cell_type": "markdown",
      "metadata": {
        "id": "fq7VxTBfHkhM"
      },
      "source": [
        "# Зафиксируйте генераторы случайных чисел\n",
        "\n",
        "Генераторы случайных чисел генерируют различные наборы случайных чисел от запуска к запуску по умолчанию. Поскольку случайные числа используются для того, чтобы инициализировать веса сети и для того, чтобы выбирать примеры из обучающей выборки, то от запуска к запуску получившиеся нейронные сети будут отличаться.\n",
        "\n",
        "Для того, чтобы решить эту проблему, необходимо инициализировать генераторы случайных чисел ```seed```-ами. Это делается следующими командами: ```random.seed``` для библиотеки ```random```, ```np.random.seed``` для библиотеки ```numpy```. Для pytirch же потребуется несколько команд:\n",
        "\n",
        "```\n",
        "torch.manual_seed_all\n",
        "torch.cuda.manual_seed_all\n",
        "```\n",
        "\n",
        "Также потребуется переключить ```cuda``` в детерминированный режим:\n",
        "\n",
        "```\n",
        "torch.backends.cudnn.deterministic = True\n",
        "```\n"
      ]
    },
    {
      "cell_type": "code",
      "metadata": {
        "id": "DWr6cvb9pS3J"
      },
      "source": [
        "import torch\n",
        "import random\n",
        "import numpy as np\n",
        "import matplotlib.pyplot as plt\n",
        "import matplotlib\n",
        "matplotlib.rcParams['figure.figsize'] = (13.0, 5.0)\n",
        "\n",
        "torch.manual_seed(42)\n",
        "torch.cuda.manual_seed(42)\n",
        "\n",
        "torch.backends.cudnn.deterministic = True\n",
        "\n",
        "# YOUR CODE HERE"
      ],
      "execution_count": null,
      "outputs": []
    },
    {
      "cell_type": "markdown",
      "metadata": {
        "id": "Sr9W-Bg-hCjz"
      },
      "source": [
        "# Загрузите данные тренировочной и валидационной частей MNIST в память\n",
        "\n",
        "Для этого используйте класс ```torchvision.datasets.MNIST```. Обратите внимание, что тренировочная и тестовая части задаются параметром ```train```."
      ]
    },
    {
      "cell_type": "code",
      "metadata": {
        "id": "MqGQWTDIpS3R"
      },
      "source": [
        "import torchvision\n",
        "\n",
        "MNIST_train = torchvision.datasets.MNIST('.', train = True, download = True) # YOUR CODE HERE\n",
        "MNIST_test = torchvision.datasets.MNIST('.', train = False, download = True)  # YOUR CODE HERE"
      ],
      "execution_count": null,
      "outputs": []
    },
    {
      "cell_type": "markdown",
      "metadata": {
        "id": "Tmd5j25vi0ag"
      },
      "source": [
        "# Проверяем, что все работает"
      ]
    },
    {
      "cell_type": "code",
      "metadata": {
        "id": "vv_Lz7PYpS3U",
        "colab": {
          "base_uri": "https://localhost:8080/"
        },
        "outputId": "aa17f47a-ee7d-4a1d-9bf8-4cdbd465f380"
      },
      "source": [
        "X_train = MNIST_train.train_data\n",
        "y_train = MNIST_train.train_labels\n",
        "X_test = MNIST_test.test_data\n",
        "y_test = MNIST_test.test_labels\n",
        "\n",
        "print(X_train.shape, y_train.shape, '<- train dataset X and y')\n",
        "print(X_test.shape, y_test.shape, '<- test dataset X and y')\n",
        "\n",
        "print(X_train.dtype, y_train.dtype, '<- training data type')"
      ],
      "execution_count": null,
      "outputs": [
        {
          "output_type": "stream",
          "name": "stdout",
          "text": [
            "torch.Size([60000, 28, 28]) torch.Size([60000]) <- train dataset X and y\n",
            "torch.Size([10000, 28, 28]) torch.Size([10000]) <- test dataset X and y\n",
            "torch.uint8 torch.int64 <- training data type\n"
          ]
        },
        {
          "output_type": "stream",
          "name": "stderr",
          "text": [
            "/usr/local/lib/python3.7/dist-packages/torchvision/datasets/mnist.py:62: UserWarning: train_data has been renamed data\n",
            "  warnings.warn(\"train_data has been renamed data\")\n",
            "/usr/local/lib/python3.7/dist-packages/torchvision/datasets/mnist.py:52: UserWarning: train_labels has been renamed targets\n",
            "  warnings.warn(\"train_labels has been renamed targets\")\n",
            "/usr/local/lib/python3.7/dist-packages/torchvision/datasets/mnist.py:67: UserWarning: test_data has been renamed data\n",
            "  warnings.warn(\"test_data has been renamed data\")\n",
            "/usr/local/lib/python3.7/dist-packages/torchvision/datasets/mnist.py:57: UserWarning: test_labels has been renamed targets\n",
            "  warnings.warn(\"test_labels has been renamed targets\")\n"
          ]
        }
      ]
    },
    {
      "cell_type": "markdown",
      "metadata": {
        "id": "8fLL9uxtjl2R"
      },
      "source": [
        "# Приводим форматы\n",
        "\n",
        "PyTorch по умолчанию работает с тензорами, состоящими из float значений. Соответственно, необходимо привести тензоры с данными к float при помощи метода тензора ```.float()```. В качестве лосс-функции мы будем использовать ```torch.nn.CrossEntropy```, которая принимает на вход предсказания нейронной сети и тензор из номеров верных классов. Этот тензор должен быть в формте ```long```. Поскольку по умолчанию ```y``` в датасете уже в формате ```long```, то ничего делать с метками уже не нужно."
      ]
    },
    {
      "cell_type": "code",
      "metadata": {
        "id": "_yTaVOrPvap6"
      },
      "source": [
        "X_train = X_train.float() # YOUR CODE HERE\n",
        "X_test = X_test.float() # YOUR CODE HERE"
      ],
      "execution_count": null,
      "outputs": []
    },
    {
      "cell_type": "markdown",
      "metadata": {
        "id": "KOYy5VW7l2JH"
      },
      "source": [
        "# Посмотрим на данные\n",
        "\n",
        "Визуально оценим данные, которыми мы располагаем. Проверим, что разметка соответствует тому, что содержится на картинке. Для этого отобразим изображение при помощи ```plt.imshow``` и посмотрим, какой лейбл соответствует этому изображению.\n",
        "\n",
        "Обратите внимание на этот код: в следующих заданиях делать отображения нужно будет самостоятельно."
      ]
    },
    {
      "cell_type": "code",
      "metadata": {
        "id": "Z1tFXMwJpS3e",
        "colab": {
          "base_uri": "https://localhost:8080/",
          "height": 337
        },
        "outputId": "fd2ab118-51fa-4f94-a5c5-c0f9445cb772"
      },
      "source": [
        "import matplotlib.pyplot as plt\n",
        "\n",
        "index = 0\n",
        "\n",
        "plt.imshow(X_train[index, :, :])\n",
        "plt.show()\n",
        "print(y_train[index])"
      ],
      "execution_count": null,
      "outputs": [
        {
          "output_type": "display_data",
          "data": {
            "image/png": "[encoded data removed]",
            "text/plain": [
              "<Figure size 936x360 with 1 Axes>"
            ]
          },
          "metadata": {
            "needs_background": "light"
          }
        },
        {
          "output_type": "stream",
          "name": "stdout",
          "text": [
            "tensor(5)\n"
          ]
        }
      ]
    },
    {
      "cell_type": "markdown",
      "metadata": {
        "id": "QjHFPMEmpBcP"
      },
      "source": [
        "# Подготовим нейронную сеть\n",
        "\n",
        "Для того, чтобы сделать нейронную сеть, которую будем обучать, необходимо сделать класс, унаследованный от ```pytorch.nn.Module```, в котором будут две функции:\n",
        "\n",
        "* ```__init__(self, n_hidden_neurons)``` -- конструктор, в котором определим модули, которые будем использовать в нейронной сети. Перед обьявлением модулей, необходимо инициализировать родительский класс при помощи ```super().__init__()```, после чего можно будет обьявлять необходимые модули\n",
        "Нейронная сетьв нашем случае будет состоять всего из трех модулей. Схематически нейронную сеть можно представить следующим образом:\n",
        "```\n",
        "torch.nn.Linear 28*28 -> n_hidden_neurons\n",
        "torch.nn.LeakyReLU\n",
        "torch.nn.Linear n_hidden_heurons -> 10\n",
        "```\n",
        "\n",
        "* ```forward(self, x)``` -- прямой проход сети. Здесь необходимо из ```x``` получить прогнозы. ```x``` -- это батч из картинок, преобразованных в вектор. Батч -- тензор размера ```N x 784```, где ```N``` -- число изображений в батче, ```784``` -- число пикселей в черно-белом изображении ```28 x 28```. Примените ко входным данным ```x``` метод ```reshape([-1, 784])``` (```-1``` означает, что второе измерение должно быть размера 784, а первое -- чему получится). Затем последовательно примените модули, обьявленные в конструкторе и верните полученный сигнал."
      ]
    },
    {
      "cell_type": "code",
      "metadata": {
        "id": "k7l65slppS3l"
      },
      "source": [
        "class MNISTNet(torch.nn.Module):\n",
        "    def __init__(self, n_hidden_neurons):\n",
        "        # YOUR CODE HERE\n",
        "        super().__init__()\n",
        "        self.linear1 = torch.nn.Linear(28*28 , n_hidden_neurons)\n",
        "        self.act1 = torch.nn.LeakyReLU() \n",
        "        self.linear2 = torch.nn.Linear(n_hidden_neurons, 10)\n",
        "    \n",
        "    def forward(self, x):\n",
        "        n = x.size(0) \n",
        "        res = x.reshape([n, -1]) \n",
        "        res = self.linear1(res)\n",
        "        res = self.act1(res)\n",
        "        res = self.linear2(res)\n",
        "        return res\n",
        "        # YOUR CODE HERE"
      ],
      "execution_count": null,
      "outputs": []
    },
    {
      "cell_type": "markdown",
      "metadata": {
        "id": "Yrnt4XH2w6zm"
      },
      "source": [
        "# Проверим, что все сделано верно"
      ]
    },
    {
      "cell_type": "code",
      "metadata": {
        "id": "-V1BqtLCw5rW",
        "colab": {
          "base_uri": "https://localhost:8080/"
        },
        "outputId": "c846d132-dd75-47d3-aaaa-e59026f5b277"
      },
      "source": [
        "mnist_net = MNISTNet(100)\n",
        "res = mnist_net(torch.zeros(10, 28*28))\n",
        "assert res.shape[0] == 10\n",
        "print(res.shape, '<- shape of predictions')\n",
        "\n",
        "\n",
        "mnist_net.cuda()"
      ],
      "execution_count": null,
      "outputs": [
        {
          "output_type": "stream",
          "name": "stdout",
          "text": [
            "torch.Size([10, 10]) <- shape of predictions\n"
          ]
        },
        {
          "output_type": "execute_result",
          "data": {
            "text/plain": [
              "MNISTNet(\n",
              "  (linear1): Linear(in_features=784, out_features=100, bias=True)\n",
              "  (act1): LeakyReLU(negative_slope=0.01)\n",
              "  (linear2): Linear(in_features=100, out_features=10, bias=True)\n",
              ")"
            ]
          },
          "metadata": {},
          "execution_count": 50
        }
      ]
    },
    {
      "cell_type": "markdown",
      "metadata": {
        "id": "6EdyxZw7xUDX"
      },
      "source": [
        "# Зададим лосс-функцию и оптимизатор\n",
        "\n",
        "В качестве лосс-функции будем использовать ```torch.nn.CrossEntropyLoss```\n",
        "\n",
        "В качестве оптимизатора будем использовать ```torch.nn.Adam```\n",
        "\n",
        "Оптимизатор должен оптимизировать все параметры нейронной сети (ссылку на которые можно получить при помощи метода ```mnist_net.parameters()```) и скорость обучения необходимо выставить равной $10^{-3}$."
      ]
    },
    {
      "cell_type": "code",
      "metadata": {
        "id": "00_2j2igpS3o"
      },
      "source": [
        "loss = torch.nn.CrossEntropyLoss() # YOUR CODE HERE\n",
        "optimizer = torch.optim.Adam(mnist_net.parameters(), 10**(-5)) # YOUR CODE HERE"
      ],
      "execution_count": null,
      "outputs": []
    },
    {
      "cell_type": "markdown",
      "metadata": {
        "id": "gB0gV4qS0GZb"
      },
      "source": [
        "# Сделаем процесс обучения\n",
        "\n",
        "Все готово: оптимизатор, лосс-функция, нейронная сеть. Осталось обучить нейронную сеть.\n",
        "\n",
        "Для этого нужно создать цикл обучения.\n",
        "\n",
        "Цикл обучения обычно состоит из двух вложенных циклов: внутренний цикл обеспечивает проход по всем примерам из обучающей или тестовой выборки. Один такой проход называется эпохой.\n",
        "\n",
        "Внешний же цикл обеспечивает повторение эпох.\n",
        "\n",
        "# Инструкции по построению цикла обучения\n",
        "\n",
        "* Сделайте внешний цикл из заранее заданного количества итераций, в котором:\n",
        "  * Сгененрируйте случайный порядок следования обучающих примеров при помощи метода ```order = np.random.permutation(...)```\n",
        "  * Сделайте внутренний цикл по обучающим примерам. Цикл должен терироваться по ```order``` с интервалом ```batch_size``` (```range(0, len(order), batch_size)```), в котором:\n",
        "    * Получите индексы обучающих примеров для текущего шага, сделав слайсинг ```indice = order[start_index:start_index+batch_size]```.\n",
        "    * Далее из обучающих примеров и лейблов нужно выбрать соответствующие примеры и лейблы при помощи индексации (```X_batch = X[indice]```).\n",
        "    * Теперь мы готовы к тому, чтобы получить предсказания нейронной сети. Если вы используете батч-нормализации, то здесь нужно переключить сеть в тренировочный режим (```net.train()```)\n",
        "    * Получите предсказания для полученного батча при помощи нейронной сети (```batch_preds = net(X_batch)```).\n",
        "    * Рассчитайте значение лосс функции исходя из предсказаний и лейблов батча\n",
        "    * Обнулите градиенты, накопленные в узлах нейронной сети, которые будут оптимизироваться (```optimizer.zero_grad()```).\n",
        "    * Рассчитайте градиенты лосс-функции по параметрам нейронной сети ```loss.backward()```\n",
        "    * Сделайте шаг оптимизатора (```optimizer.step()```).\n",
        "    * Если вы используете батч-нормализации или DropOut, переключите нейронную сеть в валидационный режим (```net.valid()```).\n",
        "\n",
        "  * Рассчитайте предсказания для тестовой выборки (в нашем случае это можно сделать одним батчем, ```test_preds = net(X_test)```)\n",
        "  * Рассчитайте точность для тестовой выборки.\n",
        "  * Рассчитайте лосс-функцию для тестовой выборки.\n",
        "  * Добавьте рассчитанную точность в историю точности и лосс в историю лоссов\n"
      ]
    },
    {
      "cell_type": "code",
      "metadata": {
        "id": "wZtqiGvfpS3r"
      },
      "source": [
        "batch_size = 100\n",
        "n_epochs = 100\n",
        "\n",
        "train_loss_history_batch = []\n",
        "\n",
        "train_loss_history = []\n",
        "train_accuracy_history = []\n",
        "test_accuracy_history = []\n",
        "test_loss_history = []\n",
        "\n",
        "for epoch in range(n_epochs):\n",
        "  num_train_samples = X_train.shape[0]\n",
        "  order = np.random.permutation(num_train_samples)\n",
        "  X_train_c = X_train.clone()\n",
        "  y_train_c = y_train.clone()\n",
        "  X_train_o = X_train_c[order].cuda() \n",
        "  y_train_o = y_train_c[order].cuda()\n",
        "  for batch_start in range(0, num_train_samples, batch_size ):\n",
        "    X_batch = X_train_o[batch_start:batch_start + batch_size]\n",
        "    y_batch = y_train_o[batch_start:batch_start + batch_size]\n",
        "\n",
        "    optimizer.zero_grad()\n",
        "    pred = mnist_net(X_batch)\n",
        "\n",
        "    loss_val = loss(pred, y_batch)\n",
        "    loss_val.backward()\n",
        "\n",
        "    train_loss_history_batch.append(loss_val.detach())\n",
        "  \n",
        "\n",
        "    optimizer.step()\n",
        "\n",
        "  with torch.no_grad():\n",
        "    pred = mnist_net(X_train_o)\n",
        "    pred_test = mnist_net(X_test.cuda())\n",
        "\n",
        "    y_pred = pred.argmax(dim = 1)\n",
        "    y_pred_test = pred_test.argmax(dim = 1)\n",
        "\n",
        "    acc_train = (y_pred == y_train_o).float().sum()/len(y_train_o) #?\n",
        "    acc_test = (y_pred_test == y_test.cuda()).float().sum()/len(y_test)\n",
        "\n",
        "    loss_train = loss(pred,y_train_o)\n",
        "    loss_test = loss(pred_test,y_test.cuda())\n",
        "\n",
        "    train_loss_history.append(loss_train)\n",
        "    train_accuracy_history.append(acc_train)\n",
        "\n",
        "    test_loss_history.append(loss_test)\n",
        "    test_accuracy_history.append(acc_test)\n",
        "\n",
        "\n",
        "# YOUR CODE HERE\n",
        "\n"
      ],
      "execution_count": null,
      "outputs": []
    },
    {
      "cell_type": "markdown",
      "metadata": {
        "id": "-pzbNWXGTFa7"
      },
      "source": [
        "# Построим график прогресса обучения"
      ]
    },
    {
      "cell_type": "code",
      "metadata": {
        "colab": {
          "base_uri": "https://localhost:8080/",
          "height": 337
        },
        "id": "_LkN_QQ2aW4g",
        "outputId": "ca3def05-ab57-4144-c184-c7417921d6b9"
      },
      "source": [
        "plt.plot(train_loss_history_batch)"
      ],
      "execution_count": null,
      "outputs": [
        {
          "output_type": "execute_result",
          "data": {
            "text/plain": [
              "[<matplotlib.lines.Line2D at 0x7f777f565310>]"
            ]
          },
          "metadata": {},
          "execution_count": 53
        },
        {
          "output_type": "display_data",
          "data": {
            "image/png": "[encoded data removed]",
            "text/plain": [
              "<Figure size 936x360 with 1 Axes>"
            ]
          },
          "metadata": {
            "needs_background": "light"
          }
        }
      ]
    },
    {
      "cell_type": "code",
      "metadata": {
        "colab": {
          "base_uri": "https://localhost:8080/",
          "height": 337
        },
        "id": "svHSuVWZ970E",
        "outputId": "d6fd3d16-3af2-4e29-ac3e-91f782864ae5"
      },
      "source": [
        "plt.plot(train_loss_history, label='train')\n",
        "plt.plot(test_loss_history, label='test')\n",
        "plt.legend(loc='upper right')"
      ],
      "execution_count": null,
      "outputs": [
        {
          "output_type": "execute_result",
          "data": {
            "text/plain": [
              "<matplotlib.legend.Legend at 0x7f777f3922d0>"
            ]
          },
          "metadata": {},
          "execution_count": 57
        },
        {
          "output_type": "display_data",
          "data": {
            "image/png": "[encoded data removed]",
            "text/plain": [
              "<Figure size 936x360 with 1 Axes>"
            ]
          },
          "metadata": {
            "needs_background": "light"
          }
        }
      ]
    },
    {
      "cell_type": "code",
      "metadata": {
        "colab": {
          "base_uri": "https://localhost:8080/",
          "height": 337
        },
        "id": "WoDwuJ1SCamB",
        "outputId": "5134d105-ac6a-4e00-f839-8dd00ef24d98"
      },
      "source": [
        "plt.plot(train_accuracy_history, label='train')\n",
        "plt.plot(test_accuracy_history, label='test')\n",
        "plt.legend(loc='upper right')"
      ],
      "execution_count": null,
      "outputs": [
        {
          "output_type": "execute_result",
          "data": {
            "text/plain": [
              "<matplotlib.legend.Legend at 0x7f777f2f1050>"
            ]
          },
          "metadata": {},
          "execution_count": 58
        },
        {
          "output_type": "display_data",
          "data": {
            "image/png": "[encoded data removed]",
            "text/plain": [
              "<Figure size 936x360 with 1 Axes>"
            ]
          },
          "metadata": {
            "needs_background": "light"
          }
        }
      ]
    },
    {
      "cell_type": "markdown",
      "metadata": {
        "id": "bAmVWtqpTQ0R"
      },
      "source": [
        "# Послесловие\n",
        "\n",
        "Вы сделали ваш первый цикл обучения самостоятельно. Он довольно простой и лаконичный, занимает не больше 100 строк и его достаточно просто переписать. В этот цикл обучения можно добавлять все больше и больше функционала. В результате цикл обучения станет очень большим и нечитаемым, логику внутри цикла будет достаточно непросто понять.\n",
        "\n",
        "Для того, чтобы не задумываться о циклах обучения, были разработаны библиотеки для упрощения обучения нейронных сетей такие, как PyTorch Lightning. Мы познакомимся с PyTorch Lightning в следующем практическом задании."
      ]
    }
  ]
}